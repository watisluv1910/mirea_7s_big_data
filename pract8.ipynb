{
 "cells": [
  {
   "metadata": {},
   "cell_type": "markdown",
   "source": "# Практическая работа №8 – Ассоциативные правила",
   "id": "56619606ca29e470"
  },
  {
   "metadata": {
    "ExecuteTime": {
     "end_time": "2024-10-20T09:27:11.475585Z",
     "start_time": "2024-10-20T09:27:11.470458Z"
    }
   },
   "cell_type": "code",
   "source": [
    "import time\n",
    "import pandas as pd\n",
    "import matplotlib.pyplot as plt\n",
    "from apriori_python import apriori as apriori_a\n",
    "from apyori import apriori as apriori_b\n",
    "from efficient_apriori import apriori as apriori_c\n",
    "from fpgrowth_py import fpgrowth"
   ],
   "id": "f28d62ff033a9a70",
   "outputs": [],
   "execution_count": 150
  },
  {
   "metadata": {},
   "cell_type": "markdown",
   "source": [
    "## Задание №1\n",
    "\n",
    "Загрузить данные Market_Basket_Optimisation.csv."
   ],
   "id": "82a6ae97b21d49d8"
  },
  {
   "cell_type": "code",
   "id": "initial_id",
   "metadata": {
    "collapsed": true,
    "ExecuteTime": {
     "end_time": "2024-10-20T09:27:11.516467Z",
     "start_time": "2024-10-20T09:27:11.492124Z"
    }
   },
   "source": [
    "data = pd.read_csv('./data/pract8/Market_Basket_Optimisation.csv')\n",
    "data.head()"
   ],
   "outputs": [
    {
     "data": {
      "text/plain": [
       "           shrimp    almonds     avocado    vegetables mix green grapes  \\\n",
       "0         burgers  meatballs        eggs               NaN          NaN   \n",
       "1         chutney        NaN         NaN               NaN          NaN   \n",
       "2          turkey    avocado         NaN               NaN          NaN   \n",
       "3   mineral water       milk  energy bar  whole wheat rice    green tea   \n",
       "4  low fat yogurt        NaN         NaN               NaN          NaN   \n",
       "\n",
       "  whole weat flour yams cottage cheese energy drink tomato juice  \\\n",
       "0              NaN  NaN            NaN          NaN          NaN   \n",
       "1              NaN  NaN            NaN          NaN          NaN   \n",
       "2              NaN  NaN            NaN          NaN          NaN   \n",
       "3              NaN  NaN            NaN          NaN          NaN   \n",
       "4              NaN  NaN            NaN          NaN          NaN   \n",
       "\n",
       "  low fat yogurt green tea honey salad mineral water salmon antioxydant juice  \\\n",
       "0            NaN       NaN   NaN   NaN           NaN    NaN               NaN   \n",
       "1            NaN       NaN   NaN   NaN           NaN    NaN               NaN   \n",
       "2            NaN       NaN   NaN   NaN           NaN    NaN               NaN   \n",
       "3            NaN       NaN   NaN   NaN           NaN    NaN               NaN   \n",
       "4            NaN       NaN   NaN   NaN           NaN    NaN               NaN   \n",
       "\n",
       "  frozen smoothie spinach  olive oil  \n",
       "0             NaN     NaN        NaN  \n",
       "1             NaN     NaN        NaN  \n",
       "2             NaN     NaN        NaN  \n",
       "3             NaN     NaN        NaN  \n",
       "4             NaN     NaN        NaN  "
      ],
      "text/html": [
       "<div>\n",
       "<style scoped>\n",
       "    .dataframe tbody tr th:only-of-type {\n",
       "        vertical-align: middle;\n",
       "    }\n",
       "\n",
       "    .dataframe tbody tr th {\n",
       "        vertical-align: top;\n",
       "    }\n",
       "\n",
       "    .dataframe thead th {\n",
       "        text-align: right;\n",
       "    }\n",
       "</style>\n",
       "<table border=\"1\" class=\"dataframe\">\n",
       "  <thead>\n",
       "    <tr style=\"text-align: right;\">\n",
       "      <th></th>\n",
       "      <th>shrimp</th>\n",
       "      <th>almonds</th>\n",
       "      <th>avocado</th>\n",
       "      <th>vegetables mix</th>\n",
       "      <th>green grapes</th>\n",
       "      <th>whole weat flour</th>\n",
       "      <th>yams</th>\n",
       "      <th>cottage cheese</th>\n",
       "      <th>energy drink</th>\n",
       "      <th>tomato juice</th>\n",
       "      <th>low fat yogurt</th>\n",
       "      <th>green tea</th>\n",
       "      <th>honey</th>\n",
       "      <th>salad</th>\n",
       "      <th>mineral water</th>\n",
       "      <th>salmon</th>\n",
       "      <th>antioxydant juice</th>\n",
       "      <th>frozen smoothie</th>\n",
       "      <th>spinach</th>\n",
       "      <th>olive oil</th>\n",
       "    </tr>\n",
       "  </thead>\n",
       "  <tbody>\n",
       "    <tr>\n",
       "      <th>0</th>\n",
       "      <td>burgers</td>\n",
       "      <td>meatballs</td>\n",
       "      <td>eggs</td>\n",
       "      <td>NaN</td>\n",
       "      <td>NaN</td>\n",
       "      <td>NaN</td>\n",
       "      <td>NaN</td>\n",
       "      <td>NaN</td>\n",
       "      <td>NaN</td>\n",
       "      <td>NaN</td>\n",
       "      <td>NaN</td>\n",
       "      <td>NaN</td>\n",
       "      <td>NaN</td>\n",
       "      <td>NaN</td>\n",
       "      <td>NaN</td>\n",
       "      <td>NaN</td>\n",
       "      <td>NaN</td>\n",
       "      <td>NaN</td>\n",
       "      <td>NaN</td>\n",
       "      <td>NaN</td>\n",
       "    </tr>\n",
       "    <tr>\n",
       "      <th>1</th>\n",
       "      <td>chutney</td>\n",
       "      <td>NaN</td>\n",
       "      <td>NaN</td>\n",
       "      <td>NaN</td>\n",
       "      <td>NaN</td>\n",
       "      <td>NaN</td>\n",
       "      <td>NaN</td>\n",
       "      <td>NaN</td>\n",
       "      <td>NaN</td>\n",
       "      <td>NaN</td>\n",
       "      <td>NaN</td>\n",
       "      <td>NaN</td>\n",
       "      <td>NaN</td>\n",
       "      <td>NaN</td>\n",
       "      <td>NaN</td>\n",
       "      <td>NaN</td>\n",
       "      <td>NaN</td>\n",
       "      <td>NaN</td>\n",
       "      <td>NaN</td>\n",
       "      <td>NaN</td>\n",
       "    </tr>\n",
       "    <tr>\n",
       "      <th>2</th>\n",
       "      <td>turkey</td>\n",
       "      <td>avocado</td>\n",
       "      <td>NaN</td>\n",
       "      <td>NaN</td>\n",
       "      <td>NaN</td>\n",
       "      <td>NaN</td>\n",
       "      <td>NaN</td>\n",
       "      <td>NaN</td>\n",
       "      <td>NaN</td>\n",
       "      <td>NaN</td>\n",
       "      <td>NaN</td>\n",
       "      <td>NaN</td>\n",
       "      <td>NaN</td>\n",
       "      <td>NaN</td>\n",
       "      <td>NaN</td>\n",
       "      <td>NaN</td>\n",
       "      <td>NaN</td>\n",
       "      <td>NaN</td>\n",
       "      <td>NaN</td>\n",
       "      <td>NaN</td>\n",
       "    </tr>\n",
       "    <tr>\n",
       "      <th>3</th>\n",
       "      <td>mineral water</td>\n",
       "      <td>milk</td>\n",
       "      <td>energy bar</td>\n",
       "      <td>whole wheat rice</td>\n",
       "      <td>green tea</td>\n",
       "      <td>NaN</td>\n",
       "      <td>NaN</td>\n",
       "      <td>NaN</td>\n",
       "      <td>NaN</td>\n",
       "      <td>NaN</td>\n",
       "      <td>NaN</td>\n",
       "      <td>NaN</td>\n",
       "      <td>NaN</td>\n",
       "      <td>NaN</td>\n",
       "      <td>NaN</td>\n",
       "      <td>NaN</td>\n",
       "      <td>NaN</td>\n",
       "      <td>NaN</td>\n",
       "      <td>NaN</td>\n",
       "      <td>NaN</td>\n",
       "    </tr>\n",
       "    <tr>\n",
       "      <th>4</th>\n",
       "      <td>low fat yogurt</td>\n",
       "      <td>NaN</td>\n",
       "      <td>NaN</td>\n",
       "      <td>NaN</td>\n",
       "      <td>NaN</td>\n",
       "      <td>NaN</td>\n",
       "      <td>NaN</td>\n",
       "      <td>NaN</td>\n",
       "      <td>NaN</td>\n",
       "      <td>NaN</td>\n",
       "      <td>NaN</td>\n",
       "      <td>NaN</td>\n",
       "      <td>NaN</td>\n",
       "      <td>NaN</td>\n",
       "      <td>NaN</td>\n",
       "      <td>NaN</td>\n",
       "      <td>NaN</td>\n",
       "      <td>NaN</td>\n",
       "      <td>NaN</td>\n",
       "      <td>NaN</td>\n",
       "    </tr>\n",
       "  </tbody>\n",
       "</table>\n",
       "</div>"
      ]
     },
     "execution_count": 151,
     "metadata": {},
     "output_type": "execute_result"
    }
   ],
   "execution_count": 151
  },
  {
   "metadata": {},
   "cell_type": "markdown",
   "source": [
    "## Задание №2\n",
    "\n",
    "Визуализировать данные (отразить на гистограммах относительную и фактическую частоту встречаемости для 20 наиболее популярных товаров)."
   ],
   "id": "b6cba675db497cab"
  },
  {
   "metadata": {
    "ExecuteTime": {
     "end_time": "2024-10-20T09:27:11.858561Z",
     "start_time": "2024-10-20T09:27:11.570385Z"
    }
   },
   "cell_type": "code",
   "source": [
    "all_items = data.stack().tolist()\n",
    "item_counts = pd.Series(all_items).value_counts().head(20)\n",
    "item_counts_relative = item_counts / item_counts.sum()\n",
    "\n",
    "plt.figure(figsize=(12, 6))\n",
    "\n",
    "# Фактическая частота\n",
    "plt.subplot(1, 2, 1)\n",
    "plt.bar(item_counts.index, item_counts.values)\n",
    "plt.xticks(rotation=90)\n",
    "plt.title(\"Фактическая частота топ-20 предметов\")\n",
    "plt.ylabel(\"Количество\")\n",
    "\n",
    "# Относительная частота\n",
    "plt.subplot(1, 2, 2)\n",
    "plt.bar(item_counts_relative.index, item_counts_relative.values)\n",
    "plt.xticks(rotation=90)\n",
    "plt.title(\"Относительная частота топ-20 предметов\")\n",
    "plt.ylabel(\"Доля\")\n",
    "\n",
    "plt.tight_layout()\n",
    "plt.show()"
   ],
   "id": "6e4e7748fe206153",
   "outputs": [
    {
     "data": {
      "text/plain": [
       "<Figure size 1200x600 with 2 Axes>"
      ],
      "image/png": "[encoded data removed]"
     },
     "metadata": {},
     "output_type": "display_data"
    }
   ],
   "execution_count": 152
  },
  {
   "metadata": {},
   "cell_type": "markdown",
   "source": [
    "## Задание №3\n",
    "\n",
    "Применить алгоритм Apriori, используя 3 разные библиотеки (apriori_python, apyori, efficient_apriori). Подобрать гиперпараметры для алгоритмов так, чтобы выводилось порядка 10 наилучших правил.\n",
    "\n",
    "**Теория**:\n",
    "\n",
    "Алгоритм Apriori — один из самых известных алгоритмов для поиска частых наборов элементов и генерации ассоциативных правил. Основная идея алгоритма заключается в том, что любой поднабор частого набора элементов тоже должен быть частым. Алгоритм использует эту идею, чтобы сузить пространство поиска, исключая нечастые наборы на ранних этапах.\n",
    "\n",
    "**Фазы работы алгоритма**:\n",
    "\n",
    "1.\tПервый проход — поиск частых элементов (itemsets):\n",
    "    - Алгоритм начинает с поиска всех отдельных элементов (itemsets с длиной 1), которые встречаются в транзакциях с частотой, превышающей заданное пороговое значение поддержки (min_support);\n",
    "    - Поддержка (support) набора элементов — это доля транзакций, которые содержат этот набор.\n",
    "2.\tГенерация кандидатов на следующий уровень:\n",
    "    - Из частых наборов длины 1 генерируются кандидаты длины 2 (пары элементов). Для генерации кандидатов используются только частые элементы из предыдущего шага;\n",
    "    - Для этого применяются следующие правила:\n",
    "        - Кандидаты (candidates) генерируются путём объединения частых наборов из предыдущего уровня;\n",
    "        - Например, если {A} и {B} являются частыми наборами длины 1, то создаётся набор {A, B}.\n",
    "3.\tФильтрация кандидатов по поддержке:\n",
    "\t- Алгоритм снова проходит по базе данных транзакций и вычисляет поддержку для каждого сгенерированного набора кандидатов;\n",
    "\t- Кандидаты, которые не удовлетворяют порогу минимальной поддержки, отбрасываются.\n",
    "4.\tРекурсивное расширение:\n",
    "\t- Процесс продолжается, создаются кандидаты длины 3 на основе частых наборов длины 2, затем кандидаты длины 4 и так далее, пока не будет достигнут предел (или пока не останется наборов, удовлетворяющих порогу поддержки).\n",
    "5.\tГенерация ассоциативных правил:\n",
    "\t- Как только найдено множество всех частых наборов, на их основе можно генерировать ассоциативные правила;\n",
    "\t- Правила имеют вид {A} → {B}, где {A} и {B} — подмножества набора, и {A} является предпосылкой, а {B} — следствием;\n",
    "\t- Для каждого правила вычисляется:\n",
    "        - Уверенность (confidence): вероятность того, что если покупатель приобрёл товары из {A}, то он также купил товары из {B};\n",
    "        - Лифт (lift): насколько сильна ассоциация между {A} и {B}, по сравнению с их случайным совместным появлением.\n",
    "\n",
    "**Параметры результата работы алгоритма**:\n",
    "\n",
    "1.\tПоддержка (Support) – показывает, как часто встречается комбинация товаров в транзакциях относительно общего числа транзакций.\n",
    "    - Формула: $\\text{Support}(A \\to B) = \\frac{\\text{Количество транзакций, содержащих } A \\text{ и } B}{\\text{Общее количество транзакций}}$;\n",
    "    - Пример: если поддержка правила {almonds} -> {burgers} равна 0.004, это означает, что комбинация “almonds и burgers” встречается в 0.4% всех транзакций.\n",
    "2.\tДоверие (Confidence) – измеряет, насколько часто товары из правой части правила покупаются вместе с товарами из левой части.\n",
    "    - Формула: $\\text{Confidence}(A \\to B) = \\frac{\\text{Количество транзакций, содержащих } A \\text{ и } B}{\\text{Количество транзакций, содержащих } A}$;\n",
    "    - Пример: если доверие правила {almonds} -> {burgers} равно 0.25, это означает, что в 25% случаев, когда покупают “almonds”, также покупают “burgers”.\n",
    "3.\tЛифт (Lift) – измеряет, насколько сильнее взаимосвязь между товарами, чем можно было бы ожидать при условии, что товары покупаются независимо. Лифт больше 1 указывает на положительную зависимость между товарами (т. е. товары покупаются вместе чаще, чем ожидалось), меньше 1 — на отрицательную зависимость.\n",
    "    - Формула: $\\text{Lift}(A \\to B) = \\frac{\\text{Confidence}(A \\to B)}{\\text{Support}(B)}$;\n",
    "    - Пример: если лифт равен 1.12, это означает, что вероятность совместной покупки “almonds” и “burgers” на 12% выше, чем если бы они покупались независимо.\n"
   ],
   "id": "da24672b7208288c"
  },
  {
   "metadata": {
    "ExecuteTime": {
     "end_time": "2024-10-20T09:27:12.076551Z",
     "start_time": "2024-10-20T09:27:11.885436Z"
    }
   },
   "cell_type": "code",
   "source": [
    "# Список списков, где каждая строка — это транзакция с товарами\n",
    "transactions = data.apply(lambda row: row.dropna().tolist(), axis=1).tolist()\n",
    "\n",
    "def measure_execution_time(lambda_function):\n",
    "    start_time = time.time()\n",
    "    result = lambda_function()\n",
    "    end_time = time.time()\n",
    "    return end_time - start_time, result\n",
    "\n",
    "times = []"
   ],
   "id": "b122655f6bed2578",
   "outputs": [],
   "execution_count": 153
  },
  {
   "metadata": {
    "ExecuteTime": {
     "end_time": "2024-10-20T09:27:13.389830Z",
     "start_time": "2024-10-20T09:27:12.083647Z"
    }
   },
   "cell_type": "code",
   "source": [
    "def print_apriori_python_rules(rules):\n",
    "    for i, rule in enumerate(rules, 1):\n",
    "        antecedents = ', '.join(list(rule[0]))\n",
    "        consequents = ', '.join(list(rule[1]))\n",
    "        confidence = rule[2]\n",
    "        \n",
    "        print(f\"Правило {i}:\")\n",
    "        print(f\"  Если покупают: {antecedents}\")\n",
    "        print(f\"  То также покупают: {consequents}\")\n",
    "        print(f\"  Достоверность: {confidence:.4f}\")\n",
    "        if i < len(rules): print(\"-\" * 50)\n",
    "\n",
    "execution_time, (_ , res) = measure_execution_time(lambda: apriori_a(transactions, minSup=0.025, minConf=0.3))\n",
    "times.append(execution_time)\n",
    "top_rules = res[:10]\n",
    "\n",
    "print_apriori_python_rules(top_rules)"
   ],
   "id": "800f318ecdb25893",
   "outputs": [
    {
     "name": "stdout",
     "output_type": "stream",
     "text": [
      "Правило 1:\n",
      "  Если покупают: chocolate\n",
      "  То также покупают: mineral water\n",
      "  Достоверность: 0.3214\n",
      "--------------------------------------------------\n",
      "Правило 2:\n",
      "  Если покупают: burgers\n",
      "  То также покупают: eggs\n",
      "  Достоверность: 0.3303\n",
      "--------------------------------------------------\n",
      "Правило 3:\n",
      "  Если покупают: cake\n",
      "  То также покупают: mineral water\n",
      "  Достоверность: 0.3388\n",
      "--------------------------------------------------\n",
      "Правило 4:\n",
      "  Если покупают: spaghetti\n",
      "  То также покупают: mineral water\n",
      "  Достоверность: 0.3430\n",
      "--------------------------------------------------\n",
      "Правило 5:\n",
      "  Если покупают: pancakes\n",
      "  То также покупают: mineral water\n",
      "  Достоверность: 0.3548\n",
      "--------------------------------------------------\n",
      "Правило 6:\n",
      "  Если покупают: milk\n",
      "  То также покупают: mineral water\n",
      "  Достоверность: 0.3704\n",
      "--------------------------------------------------\n",
      "Правило 7:\n",
      "  Если покупают: frozen vegetables\n",
      "  То также покупают: mineral water\n",
      "  Достоверность: 0.3748\n",
      "--------------------------------------------------\n",
      "Правило 8:\n",
      "  Если покупают: ground beef\n",
      "  То также покупают: spaghetti\n",
      "  Достоверность: 0.3989\n",
      "--------------------------------------------------\n",
      "Правило 9:\n",
      "  Если покупают: ground beef\n",
      "  То также покупают: mineral water\n",
      "  Достоверность: 0.4166\n",
      "--------------------------------------------------\n",
      "Правило 10:\n",
      "  Если покупают: olive oil\n",
      "  То также покупают: mineral water\n",
      "  Достоверность: 0.4178\n"
     ]
    }
   ],
   "execution_count": 154
  },
  {
   "metadata": {
    "ExecuteTime": {
     "end_time": "2024-10-20T09:27:13.419864Z",
     "start_time": "2024-10-20T09:27:13.400728Z"
    }
   },
   "cell_type": "code",
   "source": [
    "def print_apyori_rules(rules):\n",
    "    for i, rule in enumerate(rules, 1):\n",
    "        antecedents = ', '.join(list(rule.ordered_statistics[0].items_base))\n",
    "        consequents = ', '.join(list(rule.ordered_statistics[0].items_add))\n",
    "        support = rule.support\n",
    "        confidence = rule.ordered_statistics[0].confidence\n",
    "        lift = rule.ordered_statistics[0].lift\n",
    "        \n",
    "        print(f\"Правило {i}:\")\n",
    "        print(f\"  Если покупают: {antecedents}\")\n",
    "        print(f\"  То также покупают: {consequents}\")\n",
    "        print(f\"  Поддержка: {support:.4f}, Достоверность: {confidence:.4f}, Лифт: {lift:.4f}\")\n",
    "        if i < len(rules): print(\"-\" * 50)\n",
    "\n",
    "execution_time, res = measure_execution_time(lambda: list(apriori_b(transactions, min_support=0.025, min_confidence=0.3, min_lift=1.0001, min_length=2)))\n",
    "times.append(execution_time)\n",
    "top_rules = res[:10]\n",
    "\n",
    "print_apyori_rules(top_rules)"
   ],
   "id": "6105a864ad35f9e2",
   "outputs": [
    {
     "name": "stdout",
     "output_type": "stream",
     "text": [
      "Правило 1:\n",
      "  Если покупают: burgers\n",
      "  То также покупают: eggs\n",
      "  Поддержка: 0.0288, Достоверность: 0.3303, Лифт: 1.8376\n",
      "--------------------------------------------------\n",
      "Правило 2:\n",
      "  Если покупают: cake\n",
      "  То также покупают: mineral water\n",
      "  Поддержка: 0.0275, Достоверность: 0.3388, Лифт: 1.4220\n",
      "--------------------------------------------------\n",
      "Правило 3:\n",
      "  Если покупают: chocolate\n",
      "  То также покупают: mineral water\n",
      "  Поддержка: 0.0527, Достоверность: 0.3214, Лифт: 1.3489\n",
      "--------------------------------------------------\n",
      "Правило 4:\n",
      "  Если покупают: frozen vegetables\n",
      "  То также покупают: mineral water\n",
      "  Поддержка: 0.0357, Достоверность: 0.3748, Лифт: 1.5731\n",
      "--------------------------------------------------\n",
      "Правило 5:\n",
      "  Если покупают: ground beef\n",
      "  То также покупают: mineral water\n",
      "  Поддержка: 0.0409, Достоверность: 0.4166, Лифт: 1.7483\n",
      "--------------------------------------------------\n",
      "Правило 6:\n",
      "  Если покупают: ground beef\n",
      "  То также покупают: spaghetti\n",
      "  Поддержка: 0.0392, Достоверность: 0.3989, Лифт: 2.2909\n",
      "--------------------------------------------------\n",
      "Правило 7:\n",
      "  Если покупают: milk\n",
      "  То также покупают: mineral water\n",
      "  Поддержка: 0.0480, Достоверность: 0.3704, Лифт: 1.5544\n",
      "--------------------------------------------------\n",
      "Правило 8:\n",
      "  Если покупают: olive oil\n",
      "  То также покупают: mineral water\n",
      "  Поддержка: 0.0275, Достоверность: 0.4178, Лифт: 1.7537\n",
      "--------------------------------------------------\n",
      "Правило 9:\n",
      "  Если покупают: pancakes\n",
      "  То также покупают: mineral water\n",
      "  Поддержка: 0.0337, Достоверность: 0.3548, Лифт: 1.4893\n",
      "--------------------------------------------------\n",
      "Правило 10:\n",
      "  Если покупают: spaghetti\n",
      "  То также покупают: mineral water\n",
      "  Поддержка: 0.0597, Достоверность: 0.3430, Лифт: 1.4397\n"
     ]
    }
   ],
   "execution_count": 155
  },
  {
   "metadata": {
    "ExecuteTime": {
     "end_time": "2024-10-20T09:27:13.455251Z",
     "start_time": "2024-10-20T09:27:13.439088Z"
    }
   },
   "cell_type": "code",
   "source": [
    "def print_efficient_apriori_rules(rules):\n",
    "    for i, rule in enumerate(rules, 1):\n",
    "        antecedents = ', '.join(list(rule.lhs))\n",
    "        consequents = ', '.join(list(rule.rhs))\n",
    "        support = rule.support\n",
    "        confidence = rule.confidence\n",
    "        lift = rule.lift\n",
    "        \n",
    "        print(f\"Правило {i}:\")\n",
    "        print(f\"  Если покупают: {antecedents}\")\n",
    "        print(f\"  То также покупают: {consequents}\")\n",
    "        print(f\"  Поддержка: {support:.4f}, Достоверность: {confidence:.4f}, Лифт: {lift:.4f}\")\n",
    "        if i < len(rules): print(\"-\" * 50)\n",
    "\n",
    "execution_time, (_ , res) = measure_execution_time(lambda: apriori_c(transactions, min_support=0.025, min_confidence=0.3))\n",
    "times.append(execution_time)\n",
    "top_rules = res[:10]\n",
    "\n",
    "print_efficient_apriori_rules(top_rules)"
   ],
   "id": "7b81fd736dcce467",
   "outputs": [
    {
     "name": "stdout",
     "output_type": "stream",
     "text": [
      "Правило 1:\n",
      "  Если покупают: burgers\n",
      "  То также покупают: eggs\n",
      "  Поддержка: 0.0288, Достоверность: 0.3303, Лифт: 1.8376\n",
      "--------------------------------------------------\n",
      "Правило 2:\n",
      "  Если покупают: cake\n",
      "  То также покупают: mineral water\n",
      "  Поддержка: 0.0275, Достоверность: 0.3388, Лифт: 1.4220\n",
      "--------------------------------------------------\n",
      "Правило 3:\n",
      "  Если покупают: chocolate\n",
      "  То также покупают: mineral water\n",
      "  Поддержка: 0.0527, Достоверность: 0.3214, Лифт: 1.3489\n",
      "--------------------------------------------------\n",
      "Правило 4:\n",
      "  Если покупают: frozen vegetables\n",
      "  То также покупают: mineral water\n",
      "  Поддержка: 0.0357, Достоверность: 0.3748, Лифт: 1.5731\n",
      "--------------------------------------------------\n",
      "Правило 5:\n",
      "  Если покупают: ground beef\n",
      "  То также покупают: mineral water\n",
      "  Поддержка: 0.0409, Достоверность: 0.4166, Лифт: 1.7483\n",
      "--------------------------------------------------\n",
      "Правило 6:\n",
      "  Если покупают: ground beef\n",
      "  То также покупают: spaghetti\n",
      "  Поддержка: 0.0392, Достоверность: 0.3989, Лифт: 2.2909\n",
      "--------------------------------------------------\n",
      "Правило 7:\n",
      "  Если покупают: milk\n",
      "  То также покупают: mineral water\n",
      "  Поддержка: 0.0480, Достоверность: 0.3704, Лифт: 1.5544\n",
      "--------------------------------------------------\n",
      "Правило 8:\n",
      "  Если покупают: olive oil\n",
      "  То также покупают: mineral water\n",
      "  Поддержка: 0.0275, Достоверность: 0.4178, Лифт: 1.7537\n",
      "--------------------------------------------------\n",
      "Правило 9:\n",
      "  Если покупают: pancakes\n",
      "  То также покупают: mineral water\n",
      "  Поддержка: 0.0337, Достоверность: 0.3548, Лифт: 1.4893\n",
      "--------------------------------------------------\n",
      "Правило 10:\n",
      "  Если покупают: spaghetti\n",
      "  То также покупают: mineral water\n",
      "  Поддержка: 0.0597, Достоверность: 0.3430, Лифт: 1.4397\n"
     ]
    }
   ],
   "execution_count": 156
  },
  {
   "metadata": {},
   "cell_type": "markdown",
   "source": [
    "## Задание №4\n",
    "\n",
    "Применить алгоритм FP-Growth из библиотеки fpgrowth_py. Подобрать гиперпараметры для алгоритма так, чтобы выводилось порядка 10 наилучших правил.\n",
    "\n",
    "**Теория**:\n",
    "\n"
   ],
   "id": "485f1a7f2b0f354f"
  },
  {
   "metadata": {
    "ExecuteTime": {
     "end_time": "2024-10-20T09:27:13.738101Z",
     "start_time": "2024-10-20T09:27:13.463748Z"
    }
   },
   "cell_type": "code",
   "source": [
    "def print_fpgrowth_rules(rules):\n",
    "    for i, rule in enumerate(rules, 1):\n",
    "        antecedents = ', '.join(list(rule[0]))\n",
    "        consequents = ', '.join(list(rule[1]))\n",
    "        confidence = rule[2]\n",
    "        \n",
    "        print(f\"Правило {i}:\")\n",
    "        print(f\"  Если покупают: {antecedents}\")\n",
    "        print(f\"  То также покупают: {consequents}\")\n",
    "        print(f\"  Достоверность: {confidence:.4f}\")\n",
    "        if i < len(rules): print(\"-\" * 50)\n",
    "\n",
    "execution_time, (_, res) = measure_execution_time(lambda: fpgrowth(transactions, minSupRatio=0.025, minConf=0.3))\n",
    "times.append(execution_time)\n",
    "top_rules = res[:10]\n",
    "\n",
    "print_fpgrowth_rules(top_rules)"
   ],
   "id": "e86da2a00ab27b43",
   "outputs": [
    {
     "name": "stdout",
     "output_type": "stream",
     "text": [
      "Правило 1:\n",
      "  Если покупают: olive oil\n",
      "  То также покупают: mineral water\n",
      "  Достоверность: 0.4178\n",
      "--------------------------------------------------\n",
      "Правило 2:\n",
      "  Если покупают: cake\n",
      "  То также покупают: mineral water\n",
      "  Достоверность: 0.3388\n",
      "--------------------------------------------------\n",
      "Правило 3:\n",
      "  Если покупают: burgers\n",
      "  То также покупают: eggs\n",
      "  Достоверность: 0.3303\n",
      "--------------------------------------------------\n",
      "Правило 4:\n",
      "  Если покупают: pancakes\n",
      "  То также покупают: mineral water\n",
      "  Достоверность: 0.3548\n",
      "--------------------------------------------------\n",
      "Правило 5:\n",
      "  Если покупают: frozen vegetables\n",
      "  То также покупают: mineral water\n",
      "  Достоверность: 0.3748\n",
      "--------------------------------------------------\n",
      "Правило 6:\n",
      "  Если покупают: ground beef\n",
      "  То также покупают: spaghetti\n",
      "  Достоверность: 0.3989\n",
      "--------------------------------------------------\n",
      "Правило 7:\n",
      "  Если покупают: ground beef\n",
      "  То также покупают: mineral water\n",
      "  Достоверность: 0.4166\n",
      "--------------------------------------------------\n",
      "Правило 8:\n",
      "  Если покупают: milk\n",
      "  То также покупают: mineral water\n",
      "  Достоверность: 0.3704\n",
      "--------------------------------------------------\n",
      "Правило 9:\n",
      "  Если покупают: chocolate\n",
      "  То также покупают: mineral water\n",
      "  Достоверность: 0.3214\n",
      "--------------------------------------------------\n",
      "Правило 10:\n",
      "  Если покупают: spaghetti\n",
      "  То также покупают: mineral water\n",
      "  Достоверность: 0.3430\n"
     ]
    }
   ],
   "execution_count": 157
  },
  {
   "metadata": {},
   "cell_type": "markdown",
   "source": [
    "## Задание №5\n",
    "\n",
    "Сравнить время выполнения всех алгоритмов и построить гистограмму."
   ],
   "id": "230f2d6f125e3a46"
  },
  {
   "metadata": {
    "ExecuteTime": {
     "end_time": "2024-10-20T09:27:13.814880Z",
     "start_time": "2024-10-20T09:27:13.749472Z"
    }
   },
   "cell_type": "code",
   "source": [
    "algorithms = ['apriori_python', 'apyori', 'efficient_apriori', 'fpgrowth']\n",
    "\n",
    "# Построение гистограммы времени выполнения\n",
    "plt.figure(figsize=(8, 5))\n",
    "plt.bar(algorithms, times, color='blue')\n",
    "plt.xlabel('Алгоритм')\n",
    "plt.ylabel('Время выполнения (секунды)')\n",
    "plt.title('Сравнение времени выполнения алгоритмов')\n",
    "plt.show()"
   ],
   "id": "87e88f991d7c9545",
   "outputs": [
    {
     "data": {
      "text/plain": [
       "<Figure size 800x500 with 1 Axes>"
      ],
      "image/png": "[encoded data removed]"
     },
     "metadata": {},
     "output_type": "display_data"
    }
   ],
   "execution_count": 158
  },
  {
   "metadata": {},
   "cell_type": "markdown",
   "source": [
    "- apriori_python: 1.30 секунды — самый медленный алгоритм;\n",
    "- apyori и efficient_apriori: очень быстрые, выполняются менее чем за 0.02 секунды;\n",
    "- fpgrowth: также достаточно быстрый, около 0.28 секунд."
   ],
   "id": "ab105a51a09bb30c"
  },
  {
   "metadata": {},
   "cell_type": "markdown",
   "source": [
    "## Задание №6\n",
    "\n",
    "Загрузить данные data.csv."
   ],
   "id": "7a48544cce48df04"
  },
  {
   "metadata": {
    "ExecuteTime": {
     "end_time": "2024-10-20T09:27:13.836177Z",
     "start_time": "2024-10-20T09:27:13.825207Z"
    }
   },
   "cell_type": "code",
   "source": [
    "data = pd.read_csv('./data/pract8/data.csv')\n",
    "data.head()"
   ],
   "id": "d0f5bc6c180d42a0",
   "outputs": [
    {
     "data": {
      "text/plain": [
       "           Bread    Unnamed: 1 Unnamed: 2 Unnamed: 3 Unnamed: 4 Unnamed: 5  \\\n",
       "0   Scandinavian  Scandinavian        NaN        NaN        NaN        NaN   \n",
       "1  Hot chocolate           Jam    Cookies        NaN        NaN        NaN   \n",
       "2         Muffin           NaN        NaN        NaN        NaN        NaN   \n",
       "3         Coffee        Pastry      Bread        NaN        NaN        NaN   \n",
       "4      Medialuna        Pastry     Muffin        NaN        NaN        NaN   \n",
       "\n",
       "  Unnamed: 6 Unnamed: 7 Unnamed: 8 Unnamed: 9 Unnamed: 10 Unnamed: 11  \n",
       "0        NaN        NaN        NaN        NaN         NaN         NaN  \n",
       "1        NaN        NaN        NaN        NaN         NaN         NaN  \n",
       "2        NaN        NaN        NaN        NaN         NaN         NaN  \n",
       "3        NaN        NaN        NaN        NaN         NaN         NaN  \n",
       "4        NaN        NaN        NaN        NaN         NaN         NaN  "
      ],
      "text/html": [
       "<div>\n",
       "<style scoped>\n",
       "    .dataframe tbody tr th:only-of-type {\n",
       "        vertical-align: middle;\n",
       "    }\n",
       "\n",
       "    .dataframe tbody tr th {\n",
       "        vertical-align: top;\n",
       "    }\n",
       "\n",
       "    .dataframe thead th {\n",
       "        text-align: right;\n",
       "    }\n",
       "</style>\n",
       "<table border=\"1\" class=\"dataframe\">\n",
       "  <thead>\n",
       "    <tr style=\"text-align: right;\">\n",
       "      <th></th>\n",
       "      <th>Bread</th>\n",
       "      <th>Unnamed: 1</th>\n",
       "      <th>Unnamed: 2</th>\n",
       "      <th>Unnamed: 3</th>\n",
       "      <th>Unnamed: 4</th>\n",
       "      <th>Unnamed: 5</th>\n",
       "      <th>Unnamed: 6</th>\n",
       "      <th>Unnamed: 7</th>\n",
       "      <th>Unnamed: 8</th>\n",
       "      <th>Unnamed: 9</th>\n",
       "      <th>Unnamed: 10</th>\n",
       "      <th>Unnamed: 11</th>\n",
       "    </tr>\n",
       "  </thead>\n",
       "  <tbody>\n",
       "    <tr>\n",
       "      <th>0</th>\n",
       "      <td>Scandinavian</td>\n",
       "      <td>Scandinavian</td>\n",
       "      <td>NaN</td>\n",
       "      <td>NaN</td>\n",
       "      <td>NaN</td>\n",
       "      <td>NaN</td>\n",
       "      <td>NaN</td>\n",
       "      <td>NaN</td>\n",
       "      <td>NaN</td>\n",
       "      <td>NaN</td>\n",
       "      <td>NaN</td>\n",
       "      <td>NaN</td>\n",
       "    </tr>\n",
       "    <tr>\n",
       "      <th>1</th>\n",
       "      <td>Hot chocolate</td>\n",
       "      <td>Jam</td>\n",
       "      <td>Cookies</td>\n",
       "      <td>NaN</td>\n",
       "      <td>NaN</td>\n",
       "      <td>NaN</td>\n",
       "      <td>NaN</td>\n",
       "      <td>NaN</td>\n",
       "      <td>NaN</td>\n",
       "      <td>NaN</td>\n",
       "      <td>NaN</td>\n",
       "      <td>NaN</td>\n",
       "    </tr>\n",
       "    <tr>\n",
       "      <th>2</th>\n",
       "      <td>Muffin</td>\n",
       "      <td>NaN</td>\n",
       "      <td>NaN</td>\n",
       "      <td>NaN</td>\n",
       "      <td>NaN</td>\n",
       "      <td>NaN</td>\n",
       "      <td>NaN</td>\n",
       "      <td>NaN</td>\n",
       "      <td>NaN</td>\n",
       "      <td>NaN</td>\n",
       "      <td>NaN</td>\n",
       "      <td>NaN</td>\n",
       "    </tr>\n",
       "    <tr>\n",
       "      <th>3</th>\n",
       "      <td>Coffee</td>\n",
       "      <td>Pastry</td>\n",
       "      <td>Bread</td>\n",
       "      <td>NaN</td>\n",
       "      <td>NaN</td>\n",
       "      <td>NaN</td>\n",
       "      <td>NaN</td>\n",
       "      <td>NaN</td>\n",
       "      <td>NaN</td>\n",
       "      <td>NaN</td>\n",
       "      <td>NaN</td>\n",
       "      <td>NaN</td>\n",
       "    </tr>\n",
       "    <tr>\n",
       "      <th>4</th>\n",
       "      <td>Medialuna</td>\n",
       "      <td>Pastry</td>\n",
       "      <td>Muffin</td>\n",
       "      <td>NaN</td>\n",
       "      <td>NaN</td>\n",
       "      <td>NaN</td>\n",
       "      <td>NaN</td>\n",
       "      <td>NaN</td>\n",
       "      <td>NaN</td>\n",
       "      <td>NaN</td>\n",
       "      <td>NaN</td>\n",
       "      <td>NaN</td>\n",
       "    </tr>\n",
       "  </tbody>\n",
       "</table>\n",
       "</div>"
      ]
     },
     "execution_count": 159,
     "metadata": {},
     "output_type": "execute_result"
    }
   ],
   "execution_count": 159
  },
  {
   "metadata": {},
   "cell_type": "markdown",
   "source": [
    "## Задание №7\n",
    "\n",
    "Визуализировать данные (отразить на гистограммах относительную и фактическую частоту встречаемости для 20 наиболее популярных товаров)."
   ],
   "id": "65c86f9864441096"
  },
  {
   "metadata": {
    "ExecuteTime": {
     "end_time": "2024-10-20T09:27:14.132893Z",
     "start_time": "2024-10-20T09:27:13.865983Z"
    }
   },
   "cell_type": "code",
   "source": [
    "all_items = data.stack().tolist()\n",
    "item_counts = pd.Series(all_items).value_counts().head(20)\n",
    "item_counts_relative = item_counts / item_counts.sum()\n",
    "\n",
    "plt.figure(figsize=(12, 6))\n",
    "\n",
    "# Фактическая частота\n",
    "plt.subplot(1, 2, 1)\n",
    "plt.bar(item_counts.index, item_counts.values)\n",
    "plt.xticks(rotation=90)\n",
    "plt.title(\"Фактическая частота топ-20 предметов\")\n",
    "plt.ylabel(\"Количество\")\n",
    "\n",
    "# Относительная частота\n",
    "plt.subplot(1, 2, 2)\n",
    "plt.bar(item_counts_relative.index, item_counts_relative.values)\n",
    "plt.xticks(rotation=90)\n",
    "plt.title(\"Относительная частота топ-20 предметов\")\n",
    "plt.ylabel(\"Доля\")\n",
    "\n",
    "plt.tight_layout()\n",
    "plt.show()"
   ],
   "id": "dd2dbd564cc5a30",
   "outputs": [
    {
     "data": {
      "text/plain": [
       "<Figure size 1200x600 with 2 Axes>"
      ],
      "image/png": "[encoded data removed]"
     },
     "metadata": {},
     "output_type": "display_data"
    }
   ],
   "execution_count": 160
  },
  {
   "metadata": {},
   "cell_type": "markdown",
   "source": [
    "## Задание №8\n",
    "\n",
    "Применить алгоритм Apriori, используя 3 разные библиотеки (apriori_python, apyori, efficient_apriori). Подобрать гиперпараметры для алгоритмов так, чтобы выводилось порядка 10 наилучших правил."
   ],
   "id": "9bc603ec23afb286"
  },
  {
   "metadata": {
    "ExecuteTime": {
     "end_time": "2024-10-20T09:27:14.400189Z",
     "start_time": "2024-10-20T09:27:14.157939Z"
    }
   },
   "cell_type": "code",
   "source": [
    "transactions = data.apply(lambda row: row.dropna().tolist(), axis=1).tolist()\n",
    "times = []"
   ],
   "id": "1cbce6ccff2f65",
   "outputs": [],
   "execution_count": 161
  },
  {
   "metadata": {
    "ExecuteTime": {
     "end_time": "2024-10-20T09:27:14.682641Z",
     "start_time": "2024-10-20T09:27:14.407418Z"
    }
   },
   "cell_type": "code",
   "source": [
    "execution_time, (_, res) = measure_execution_time(lambda: apriori_a(transactions, minSup=0.0225, minConf=0.275))\n",
    "times.append(execution_time)\n",
    "\n",
    "print_apriori_python_rules(res)"
   ],
   "id": "8c12967110c2d05",
   "outputs": [
    {
     "name": "stdout",
     "output_type": "stream",
     "text": [
      "Правило 1:\n",
      "  Если покупают: Bread\n",
      "  То также покупают: Coffee\n",
      "  Достоверность: 0.2752\n",
      "--------------------------------------------------\n",
      "Правило 2:\n",
      "  Если покупают: Pastry\n",
      "  То также покупают: Bread\n",
      "  Достоверность: 0.3387\n",
      "--------------------------------------------------\n",
      "Правило 3:\n",
      "  Если покупают: Tea\n",
      "  То также покупают: Coffee\n",
      "  Достоверность: 0.3496\n",
      "--------------------------------------------------\n",
      "Правило 4:\n",
      "  Если покупают: Hot chocolate\n",
      "  То также покупают: Coffee\n",
      "  Достоверность: 0.5072\n",
      "--------------------------------------------------\n",
      "Правило 5:\n",
      "  Если покупают: Cookies\n",
      "  То также покупают: Coffee\n",
      "  Достоверность: 0.5184\n",
      "--------------------------------------------------\n",
      "Правило 6:\n",
      "  Если покупают: Cake\n",
      "  То также покупают: Coffee\n",
      "  Достоверность: 0.5270\n",
      "--------------------------------------------------\n",
      "Правило 7:\n",
      "  Если покупают: Sandwich\n",
      "  То также покупают: Coffee\n",
      "  Достоверность: 0.5324\n",
      "--------------------------------------------------\n",
      "Правило 8:\n",
      "  Если покупают: Pastry\n",
      "  То также покупают: Coffee\n",
      "  Достоверность: 0.5521\n",
      "--------------------------------------------------\n",
      "Правило 9:\n",
      "  Если покупают: Medialuna\n",
      "  То также покупают: Coffee\n",
      "  Достоверность: 0.5692\n",
      "--------------------------------------------------\n",
      "Правило 10:\n",
      "  Если покупают: Toast\n",
      "  То также покупают: Coffee\n",
      "  Достоверность: 0.7044\n"
     ]
    }
   ],
   "execution_count": 162
  },
  {
   "metadata": {
    "ExecuteTime": {
     "end_time": "2024-10-20T09:27:14.704424Z",
     "start_time": "2024-10-20T09:27:14.694306Z"
    }
   },
   "cell_type": "code",
   "source": [
    "execution_time, res = measure_execution_time(\n",
    "    lambda: list(apriori_b(transactions, min_support=0.025, min_confidence=0.3)))\n",
    "times.append(execution_time)\n",
    "\n",
    "print_apyori_rules(res)"
   ],
   "id": "b71f50e083d87834",
   "outputs": [
    {
     "name": "stdout",
     "output_type": "stream",
     "text": [
      "Правило 1:\n",
      "  Если покупают: \n",
      "  То также покупают: Bread\n",
      "  Поддержка: 0.3249, Достоверность: 0.3249, Лифт: 1.0000\n",
      "--------------------------------------------------\n",
      "Правило 2:\n",
      "  Если покупают: \n",
      "  То также покупают: Coffee\n",
      "  Поддержка: 0.4751, Достоверность: 0.4751, Лифт: 1.0000\n",
      "--------------------------------------------------\n",
      "Правило 3:\n",
      "  Если покупают: Pastry\n",
      "  То также покупают: Bread\n",
      "  Поддержка: 0.0290, Достоверность: 0.3387, Лифт: 1.0424\n",
      "--------------------------------------------------\n",
      "Правило 4:\n",
      "  Если покупают: Cake\n",
      "  То также покупают: Coffee\n",
      "  Поддержка: 0.0544, Достоверность: 0.5270, Лифт: 1.1091\n",
      "--------------------------------------------------\n",
      "Правило 5:\n",
      "  Если покупают: Cookies\n",
      "  То также покупают: Coffee\n",
      "  Поддержка: 0.0280, Достоверность: 0.5184, Лифт: 1.0912\n",
      "--------------------------------------------------\n",
      "Правило 6:\n",
      "  Если покупают: Hot chocolate\n",
      "  То также покупают: Coffee\n",
      "  Поддержка: 0.0294, Достоверность: 0.5072, Лифт: 1.0676\n",
      "--------------------------------------------------\n",
      "Правило 7:\n",
      "  Если покупают: Medialuna\n",
      "  То также покупают: Coffee\n",
      "  Поддержка: 0.0349, Достоверность: 0.5692, Лифт: 1.1980\n",
      "--------------------------------------------------\n",
      "Правило 8:\n",
      "  Если покупают: Pastry\n",
      "  То также покупают: Coffee\n",
      "  Поддержка: 0.0472, Достоверность: 0.5521, Лифт: 1.1621\n",
      "--------------------------------------------------\n",
      "Правило 9:\n",
      "  Если покупают: Sandwich\n",
      "  То также покупают: Coffee\n",
      "  Поддержка: 0.0380, Достоверность: 0.5324, Лифт: 1.1204\n",
      "--------------------------------------------------\n",
      "Правило 10:\n",
      "  Если покупают: Tea\n",
      "  То также покупают: Coffee\n",
      "  Поддержка: 0.0495, Достоверность: 0.3496, Лифт: 0.7359\n"
     ]
    }
   ],
   "execution_count": 163
  },
  {
   "metadata": {
    "ExecuteTime": {
     "end_time": "2024-10-20T09:27:14.723895Z",
     "start_time": "2024-10-20T09:27:14.715849Z"
    }
   },
   "cell_type": "code",
   "source": [
    "execution_time, (_ , res) = measure_execution_time(lambda: apriori_c(transactions, min_support=0.0225, min_confidence=0.275))\n",
    "times.append(execution_time)\n",
    "\n",
    "print_efficient_apriori_rules(res)"
   ],
   "id": "1f2173309990475d",
   "outputs": [
    {
     "name": "stdout",
     "output_type": "stream",
     "text": [
      "Правило 1:\n",
      "  Если покупают: Bread\n",
      "  То также покупают: Coffee\n",
      "  Поддержка: 0.0894, Достоверность: 0.2752, Лифт: 0.5792\n",
      "--------------------------------------------------\n",
      "Правило 2:\n",
      "  Если покупают: Pastry\n",
      "  То также покупают: Bread\n",
      "  Поддержка: 0.0290, Достоверность: 0.3387, Лифт: 1.0424\n",
      "--------------------------------------------------\n",
      "Правило 3:\n",
      "  Если покупают: Cake\n",
      "  То также покупают: Coffee\n",
      "  Поддержка: 0.0544, Достоверность: 0.5270, Лифт: 1.1091\n",
      "--------------------------------------------------\n",
      "Правило 4:\n",
      "  Если покупают: Cookies\n",
      "  То также покупают: Coffee\n",
      "  Поддержка: 0.0280, Достоверность: 0.5184, Лифт: 1.0912\n",
      "--------------------------------------------------\n",
      "Правило 5:\n",
      "  Если покупают: Hot chocolate\n",
      "  То также покупают: Coffee\n",
      "  Поддержка: 0.0294, Достоверность: 0.5072, Лифт: 1.0676\n",
      "--------------------------------------------------\n",
      "Правило 6:\n",
      "  Если покупают: Medialuna\n",
      "  То также покупают: Coffee\n",
      "  Поддержка: 0.0349, Достоверность: 0.5692, Лифт: 1.1980\n",
      "--------------------------------------------------\n",
      "Правило 7:\n",
      "  Если покупают: Pastry\n",
      "  То также покупают: Coffee\n",
      "  Поддержка: 0.0472, Достоверность: 0.5521, Лифт: 1.1621\n",
      "--------------------------------------------------\n",
      "Правило 8:\n",
      "  Если покупают: Sandwich\n",
      "  То также покупают: Coffee\n",
      "  Поддержка: 0.0380, Достоверность: 0.5324, Лифт: 1.1204\n",
      "--------------------------------------------------\n",
      "Правило 9:\n",
      "  Если покупают: Tea\n",
      "  То также покупают: Coffee\n",
      "  Поддержка: 0.0495, Достоверность: 0.3496, Лифт: 0.7359\n",
      "--------------------------------------------------\n",
      "Правило 10:\n",
      "  Если покупают: Toast\n",
      "  То также покупают: Coffee\n",
      "  Поддержка: 0.0235, Достоверность: 0.7044, Лифт: 1.4825\n"
     ]
    }
   ],
   "execution_count": 164
  },
  {
   "metadata": {},
   "cell_type": "markdown",
   "source": [
    "## Задание №9\n",
    "\n",
    "Применить алгоритм FP-Growth из библиотеки fpgrowth_py. Подобрать гиперпараметры для алгоритма так, чтобы выводилось порядка 10 наилучших правил."
   ],
   "id": "bf7be47d48623ae3"
  },
  {
   "metadata": {
    "ExecuteTime": {
     "end_time": "2024-10-20T09:27:14.902352Z",
     "start_time": "2024-10-20T09:27:14.786475Z"
    }
   },
   "cell_type": "code",
   "source": [
    "execution_time, (_, res) = measure_execution_time(lambda: fpgrowth(transactions, minSupRatio=0.0275, minConf=0.3))\n",
    "times.append(execution_time)\n",
    "\n",
    "print_fpgrowth_rules(res)"
   ],
   "id": "778ba031a234c77f",
   "outputs": [
    {
     "name": "stdout",
     "output_type": "stream",
     "text": [
      "Правило 1:\n",
      "  Если покупают: Toast\n",
      "  То также покупают: Coffee\n",
      "  Достоверность: 0.7044\n",
      "--------------------------------------------------\n",
      "Правило 2:\n",
      "  Если покупают: Alfajores\n",
      "  То также покупают: Coffee\n",
      "  Достоверность: 0.5407\n",
      "--------------------------------------------------\n",
      "Правило 3:\n",
      "  Если покупают: Cookies\n",
      "  То также покупают: Coffee\n",
      "  Достоверность: 0.5184\n",
      "--------------------------------------------------\n",
      "Правило 4:\n",
      "  Если покупают: Hot chocolate\n",
      "  То также покупают: Coffee\n",
      "  Достоверность: 0.5072\n",
      "--------------------------------------------------\n",
      "Правило 5:\n",
      "  Если покупают: Medialuna\n",
      "  То также покупают: Coffee\n",
      "  Достоверность: 0.5692\n",
      "--------------------------------------------------\n",
      "Правило 6:\n",
      "  Если покупают: Sandwich\n",
      "  То также покупают: Coffee\n",
      "  Достоверность: 0.5324\n",
      "--------------------------------------------------\n",
      "Правило 7:\n",
      "  Если покупают: Pastry\n",
      "  То также покупают: Bread\n",
      "  Достоверность: 0.3387\n",
      "--------------------------------------------------\n",
      "Правило 8:\n",
      "  Если покупают: Pastry\n",
      "  То также покупают: Coffee\n",
      "  Достоверность: 0.5521\n",
      "--------------------------------------------------\n",
      "Правило 9:\n",
      "  Если покупают: Cake\n",
      "  То также покупают: Coffee\n",
      "  Достоверность: 0.5270\n",
      "--------------------------------------------------\n",
      "Правило 10:\n",
      "  Если покупают: Tea\n",
      "  То также покупают: Coffee\n",
      "  Достоверность: 0.3496\n"
     ]
    }
   ],
   "execution_count": 165
  },
  {
   "metadata": {},
   "cell_type": "markdown",
   "source": [
    "## Задание №10\n",
    "\n",
    "Сравнить время выполнения всех алгоритмов и построить гистограмму."
   ],
   "id": "d2f4e08dcc845bac"
  },
  {
   "metadata": {
    "ExecuteTime": {
     "end_time": "2024-10-20T09:27:15.034066Z",
     "start_time": "2024-10-20T09:27:14.963607Z"
    }
   },
   "cell_type": "code",
   "source": [
    "algorithms = ['apriori_python', 'apyori', 'efficient_apriori', 'fpgrowth']\n",
    "\n",
    "# Построение гистограммы времени выполнения\n",
    "plt.figure(figsize=(8, 5))\n",
    "plt.bar(algorithms, times, color='blue')\n",
    "plt.xlabel('Алгоритм')\n",
    "plt.ylabel('Время выполнения (секунды)')\n",
    "plt.title('Сравнение времени выполнения алгоритмов')\n",
    "plt.show()"
   ],
   "id": "b2a75bd79641d88a",
   "outputs": [
    {
     "data": {
      "text/plain": [
       "<Figure size 800x500 with 1 Axes>"
      ],
      "image/png": "[encoded data removed]"
     },
     "metadata": {},
     "output_type": "display_data"
    }
   ],
   "execution_count": 166
  },
  {
   "metadata": {},
   "cell_type": "markdown",
   "source": [
    "1.\tapriori_python:\n",
    "    - Время выполнения: 0.273 секунд.\n",
    "    - Это самый медленный из алгоритмов, хотя его время выполнения заметно сократилось по сравнению с предыдущими данными (1.30 секунды).\n",
    "2.\tapyori:\n",
    "    - Время выполнения: 0.0067 секунд;\n",
    "    - Выполняется почти мгновенно, что делает его одним из самых быстрых алгоритмов в этой выборке.\n",
    "3.\tefficient_apriori:\n",
    "    - Время выполнения: 0.0045 секунд;\n",
    "    - Это самый быстрый алгоритм, выполняется практически мгновенно.\n",
    "4.\tfpgrowth:\n",
    "    - Время выполнения: 0.113 секунд;\n",
    "    - Этот алгоритм выполняется быстрее, чем apriori_python, но медленнее, чем другие алгоритмы Apriori, хотя всё еще достаточно быстро."
   ],
   "id": "7ca80801aca7d869"
  }
 ],
 "metadata": {
  "kernelspec": {
   "display_name": "Python 3",
   "language": "python",
   "name": "python3"
  },
  "language_info": {
   "codemirror_mode": {
    "name": "ipython",
    "version": 2
   },
   "file_extension": ".py",
   "mimetype": "text/x-python",
   "name": "python",
   "nbconvert_exporter": "python",
   "pygments_lexer": "ipython2",
   "version": "2.7.6"
  }
 },
 "nbformat": 4,
 "nbformat_minor": 5
}
