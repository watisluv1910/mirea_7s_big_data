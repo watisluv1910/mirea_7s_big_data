{
 "cells": [
  {
   "metadata": {},
   "cell_type": "markdown",
   "source": "# Практическая работа №1",
   "id": "8a77807f92f26ee"
  },
  {
   "metadata": {
    "ExecuteTime": {
     "end_time": "2024-09-28T10:49:05.228920Z",
     "start_time": "2024-09-28T10:49:05.226462Z"
    }
   },
   "cell_type": "code",
   "source": [
    "import math\n",
    "import operator\n",
    "import unittest"
   ],
   "id": "e47c2e2066b5b4cf",
   "outputs": [],
   "execution_count": 25
  },
  {
   "metadata": {},
   "cell_type": "markdown",
   "source": [
    "Задание №2\n",
    "\n",
    "Написать программу, которая вычисляет площадь фигуры,\n",
    "параметры которой подаются на вход. Фигуры, которые подаются на вход:\n",
    "треугольник, прямоугольник, круг. Результатом работы является словарь, где\n",
    "ключ – это название фигуры, а значение – это площадь."
   ],
   "id": "fd54de92646c3b45"
  },
  {
   "metadata": {
    "ExecuteTime": {
     "end_time": "2024-09-28T10:49:05.248735Z",
     "start_time": "2024-09-28T10:49:05.238602Z"
    }
   },
   "cell_type": "code",
   "source": [
    "def calculate_area(shape, params):\n",
    "    if shape == \"треугольник\":\n",
    "        a, b, c = params\n",
    "        s = (a + b + c) / 2\n",
    "        area = math.sqrt(s * (s - a) * (s - b) * (s - c))\n",
    "        return area\n",
    "    elif shape == \"прямоугольник\":\n",
    "        length, width = params\n",
    "        area = length * width\n",
    "        return area\n",
    "    elif shape == \"круг\":\n",
    "        radius = params[0]\n",
    "        area = math.pi * (radius ** 2)\n",
    "        return area\n",
    "    else:\n",
    "        raise ValueError(\"Неизвестная фигура\")"
   ],
   "id": "ee1d02e6438867df",
   "outputs": [],
   "execution_count": 26
  },
  {
   "metadata": {},
   "cell_type": "markdown",
   "source": "Пример использования:",
   "id": "72c693199bcc2601"
  },
  {
   "metadata": {
    "ExecuteTime": {
     "end_time": "2024-09-28T10:49:05.275221Z",
     "start_time": "2024-09-28T10:49:05.268096Z"
    }
   },
   "cell_type": "code",
   "source": [
    "def test_calculate_area():\n",
    "    shapes = {\n",
    "        \"треугольник\": (3, 4, 5),\n",
    "        \"прямоугольник\": (5, 10),\n",
    "        \"круг\": (7,)\n",
    "    }\n",
    "\n",
    "    areas = {}\n",
    "    for shape, params in shapes.items():\n",
    "        try:\n",
    "            area = calculate_area(shape, params)\n",
    "            areas[shape] = area\n",
    "        except ValueError as e:\n",
    "            print(e)\n",
    "\n",
    "    print(areas)\n",
    "\n",
    "\n",
    "test_calculate_area()"
   ],
   "id": "a1d72c943a4dcdce",
   "outputs": [
    {
     "name": "stdout",
     "output_type": "stream",
     "text": [
      "{'треугольник': 6.0, 'прямоугольник': 50, 'круг': 153.93804002589985}\n"
     ]
    }
   ],
   "execution_count": 27
  },
  {
   "metadata": {},
   "cell_type": "markdown",
   "source": [
    "Задание №3\n",
    "\n",
    "Написать программу, которая на вход получает два числа и\n",
    "операцию, которую к ним нужно применить. Должны быть реализованы\n",
    "следующие операции: `+`, `-`, `/`, `//`, `abs` – модуль, `pow` или `**` – возведение в\n",
    "степень."
   ],
   "id": "da26ce58ff072162"
  },
  {
   "metadata": {
    "ExecuteTime": {
     "end_time": "2024-09-28T10:49:05.296412Z",
     "start_time": "2024-09-28T10:49:05.292214Z"
    }
   },
   "cell_type": "code",
   "source": [
    "def perform_binary_operation(operation, operands):\n",
    "    operations = {\n",
    "        '+': operator.add,\n",
    "        '-': operator.sub,\n",
    "        '//': operator.floordiv,\n",
    "        '/': operator.truediv,\n",
    "        'pow': operator.pow,\n",
    "        '**': operator.pow,\n",
    "        'abs': abs,\n",
    "    }\n",
    "\n",
    "    if operation not in operations.keys():\n",
    "        raise ValueError(\"Неизвестная операция\")\n",
    "\n",
    "    return operations[operation](*operands)"
   ],
   "id": "a6e31aec2c9aa772",
   "outputs": [],
   "execution_count": 28
  },
  {
   "metadata": {},
   "cell_type": "markdown",
   "source": "Пример использования:",
   "id": "e53e7083c6eddc42"
  },
  {
   "metadata": {
    "ExecuteTime": {
     "end_time": "2024-09-28T10:49:05.326739Z",
     "start_time": "2024-09-28T10:49:05.316550Z"
    }
   },
   "cell_type": "code",
   "source": [
    "class TestPerformBinaryOperation(unittest.TestCase):\n",
    "    def test_addition(self):\n",
    "        result = perform_binary_operation('+', (5, 3))\n",
    "        self.assertEqual(result, 8)\n",
    "\n",
    "    def test_subtraction(self):\n",
    "        result = perform_binary_operation('-', (10, 4))\n",
    "        self.assertEqual(result, 6)\n",
    "\n",
    "    def test_floordiv(self):\n",
    "        result = perform_binary_operation('//', (9, 4))\n",
    "        self.assertEqual(result, 2)\n",
    "\n",
    "    def test_truediv(self):\n",
    "        result = perform_binary_operation('/', (9, 4))\n",
    "        self.assertAlmostEqual(result, 2.25)\n",
    "\n",
    "    def test_pow(self):\n",
    "        result = perform_binary_operation('pow', (2, 3))\n",
    "        self.assertEqual(result, 8)\n",
    "\n",
    "    def test_pow_alternative(self):\n",
    "        result = perform_binary_operation('**', (2, 3))\n",
    "        self.assertEqual(result, 8)\n",
    "\n",
    "    def test_abs(self):\n",
    "        result = perform_binary_operation('abs', (-5,))\n",
    "        self.assertEqual(result, 5)\n",
    "\n",
    "    def test_unknown_operation(self):\n",
    "        with self.assertRaises(ValueError):\n",
    "            perform_binary_operation('%', (5, 3))\n",
    "\n",
    "\n",
    "unittest.main(argv=[''], verbosity=0, exit=False)"
   ],
   "id": "1424b8a7173b6916",
   "outputs": [
    {
     "name": "stderr",
     "output_type": "stream",
     "text": [
      "----------------------------------------------------------------------\n",
      "Ran 8 tests in 0.000s\n",
      "\n",
      "OK\n"
     ]
    },
    {
     "data": {
      "text/plain": [
       "<unittest.main.TestProgram at 0x11fc112b0>"
      ]
     },
     "execution_count": 29,
     "metadata": {},
     "output_type": "execute_result"
    }
   ],
   "execution_count": 29
  },
  {
   "metadata": {},
   "cell_type": "markdown",
   "source": [
    "Задание №4\n",
    "\n",
    "Напишите программу, которая считывает с консоли числа (по\n",
    "одному в строке) до тех пор, пока сумма введённых чисел не будет равна 0 и\n",
    "после этого выводит сумму квадратов всех считанных чисел."
   ],
   "id": "bf9871961169b07e"
  },
  {
   "metadata": {
    "ExecuteTime": {
     "end_time": "2024-09-28T10:49:05.348745Z",
     "start_time": "2024-09-28T10:49:05.341930Z"
    }
   },
   "cell_type": "code",
   "source": [
    "def calc_sum_of_squares(nums):\n",
    "    return sum(x ** 2 for x in nums)\n",
    "\n",
    "\n",
    "def calc_sum_of_squares_until_zero():\n",
    "    numbers = []\n",
    "    total = 0\n",
    "\n",
    "    while True:\n",
    "        num = int(input(\"Введите число: \"))\n",
    "        numbers.append(num)\n",
    "        total += num\n",
    "        if total == 0: break\n",
    "\n",
    "    print(f\"Сумма квадратов введённых чисел: {calc_sum_of_squares(numbers)}\")"
   ],
   "id": "5a1ed7fbf6e2d5a6",
   "outputs": [],
   "execution_count": 30
  },
  {
   "metadata": {},
   "cell_type": "markdown",
   "source": "Пример использования:",
   "id": "843cac5613d68c7c"
  },
  {
   "metadata": {
    "ExecuteTime": {
     "end_time": "2024-09-28T10:49:13.819222Z",
     "start_time": "2024-09-28T10:49:05.367581Z"
    }
   },
   "cell_type": "code",
   "source": "calc_sum_of_squares_until_zero()  # 2, 4, -6",
   "id": "bfdd2bf70fbf7097",
   "outputs": [
    {
     "name": "stdout",
     "output_type": "stream",
     "text": [
      "Сумма квадратов введённых чисел: 56\n"
     ]
    }
   ],
   "execution_count": 31
  },
  {
   "metadata": {},
   "cell_type": "markdown",
   "source": [
    "Задание №5\n",
    "\n",
    "Напишите программу, которая выводит последовательность\n",
    "чисел, длинною `N`, где каждое число повторяется столько раз, чему оно равно.\n",
    "На вход программе передаётся неотрицательное целое число `N`."
   ],
   "id": "4bf2ee264a71f623"
  },
  {
   "metadata": {
    "ExecuteTime": {
     "end_time": "2024-09-28T10:49:13.847561Z",
     "start_time": "2024-09-28T10:49:13.843989Z"
    }
   },
   "cell_type": "code",
   "source": [
    "def print_repeated_sequence(n):\n",
    "    curr_seq = 1\n",
    "    res = []\n",
    "    for i in range(1, n, curr_seq):\n",
    "        if len(res) + i + 1 > n:\n",
    "            for j in range(n - len(res)): res.append(str(i))\n",
    "            break\n",
    "\n",
    "        for j in range(i): res.append(str(i))\n",
    "        curr_seq += 1\n",
    "        \n",
    "    print(*res)"
   ],
   "id": "6e53896d481578ca",
   "outputs": [],
   "execution_count": 32
  },
  {
   "metadata": {},
   "cell_type": "markdown",
   "source": "Пример использования:",
   "id": "668054a424873fc8"
  },
  {
   "metadata": {
    "ExecuteTime": {
     "end_time": "2024-09-28T10:49:13.866338Z",
     "start_time": "2024-09-28T10:49:13.863638Z"
    }
   },
   "cell_type": "code",
   "source": "print_repeated_sequence(7)",
   "id": "1c2bedc9e9ee2f61",
   "outputs": [
    {
     "name": "stdout",
     "output_type": "stream",
     "text": [
      "1 2 2 3 3 3 4\n"
     ]
    }
   ],
   "execution_count": 33
  },
  {
   "metadata": {},
   "cell_type": "markdown",
   "source": [
    "Задание №6 \n",
    "\n",
    "Даны два списка:\n",
    "\n",
    "- А = `[1, 2, 3, 4, 2, 1, 3, 4, 5, 6, 5, 4, 3, 2]`\n",
    "- В = `[‘a’, ’b’, ’c’, ’c’, ’c’, ’b’, ’a’, ’c’, ’a’, ’a’, ’b’, ’c’, ’b’, ’a’]`\n",
    "\n",
    "Создать словарь, в котором ключи – это содержимое списка В, а\n",
    "значения для ключей словаря – это сумма всех элементов списка А в\n",
    "соответствии с буквой, содержащийся на той же позиции в списке В."
   ],
   "id": "e7c1f5808c3f4b9a"
  },
  {
   "metadata": {
    "ExecuteTime": {
     "end_time": "2024-09-28T10:49:13.884312Z",
     "start_time": "2024-09-28T10:49:13.881607Z"
    }
   },
   "cell_type": "code",
   "source": [
    "def form_dict_from_sequences(a, b):\n",
    "    res = {}\n",
    "    for key, value in zip(b, a):\n",
    "        if key not in res:\n",
    "            res[key] = 0\n",
    "        res[key] += value\n",
    "        \n",
    "    print(res)"
   ],
   "id": "3f05b688165cfec1",
   "outputs": [],
   "execution_count": 34
  },
  {
   "metadata": {},
   "cell_type": "markdown",
   "source": "Пример использования:",
   "id": "39aac863913626ab"
  },
  {
   "metadata": {
    "ExecuteTime": {
     "end_time": "2024-09-28T10:49:13.901741Z",
     "start_time": "2024-09-28T10:49:13.898834Z"
    }
   },
   "cell_type": "code",
   "source": [
    "A = [1, 2, 3, 4, 2, 1, 3, 4, 5, 6, 5, 4, 3, 2]\n",
    "B = ['a', 'b', 'c', 'c', 'c', 'b', 'a', 'c', 'a', 'a', 'b', 'c', 'b', 'a']\n",
    "form_dict_from_sequences(A, B)"
   ],
   "id": "ee00785bf3f7c09a",
   "outputs": [
    {
     "name": "stdout",
     "output_type": "stream",
     "text": [
      "{'a': 17, 'b': 11, 'c': 17}\n"
     ]
    }
   ],
   "execution_count": 35
  },
  {
   "metadata": {},
   "cell_type": "markdown",
   "source": [
    "Задание №7\n",
    "\n",
    "Скачать и загрузить данные о стоимости домов в Калифорнии,\n",
    "используя библиотеку sklearn."
   ],
   "id": "78a542ed272cf563"
  },
  {
   "metadata": {
    "ExecuteTime": {
     "end_time": "2024-09-28T10:49:13.926451Z",
     "start_time": "2024-09-28T10:49:13.915463Z"
    }
   },
   "cell_type": "code",
   "source": [
    "from sklearn.datasets import fetch_california_housing\n",
    "data = fetch_california_housing(as_frame=True)\n",
    "df = data.frame\n",
    "print(df)"
   ],
   "id": "ac65c23a0bfaf446",
   "outputs": [
    {
     "name": "stdout",
     "output_type": "stream",
     "text": [
      "       MedInc  HouseAge  AveRooms  AveBedrms  Population  AveOccup  Latitude  \\\n",
      "0      8.3252      41.0  6.984127   1.023810       322.0  2.555556     37.88   \n",
      "1      8.3014      21.0  6.238137   0.971880      2401.0  2.109842     37.86   \n",
      "2      7.2574      52.0  8.288136   1.073446       496.0  2.802260     37.85   \n",
      "3      5.6431      52.0  5.817352   1.073059       558.0  2.547945     37.85   \n",
      "4      3.8462      52.0  6.281853   1.081081       565.0  2.181467     37.85   \n",
      "...       ...       ...       ...        ...         ...       ...       ...   \n",
      "20635  1.5603      25.0  5.045455   1.133333       845.0  2.560606     39.48   \n",
      "20636  2.5568      18.0  6.114035   1.315789       356.0  3.122807     39.49   \n",
      "20637  1.7000      17.0  5.205543   1.120092      1007.0  2.325635     39.43   \n",
      "20638  1.8672      18.0  5.329513   1.171920       741.0  2.123209     39.43   \n",
      "20639  2.3886      16.0  5.254717   1.162264      1387.0  2.616981     39.37   \n",
      "\n",
      "       Longitude  MedHouseVal  \n",
      "0        -122.23        4.526  \n",
      "1        -122.22        3.585  \n",
      "2        -122.24        3.521  \n",
      "3        -122.25        3.413  \n",
      "4        -122.25        3.422  \n",
      "...          ...          ...  \n",
      "20635    -121.09        0.781  \n",
      "20636    -121.21        0.771  \n",
      "20637    -121.22        0.923  \n",
      "20638    -121.32        0.847  \n",
      "20639    -121.24        0.894  \n",
      "\n",
      "[20640 rows x 9 columns]\n"
     ]
    }
   ],
   "execution_count": 36
  },
  {
   "metadata": {},
   "cell_type": "markdown",
   "source": [
    "Задание №8\n",
    "\n",
    "Использовать метод info()"
   ],
   "id": "efabff8b5672efb0"
  },
  {
   "metadata": {
    "ExecuteTime": {
     "end_time": "2024-09-28T10:49:13.947556Z",
     "start_time": "2024-09-28T10:49:13.941336Z"
    }
   },
   "cell_type": "code",
   "source": "print(df.info())",
   "id": "984df229646b22de",
   "outputs": [
    {
     "name": "stdout",
     "output_type": "stream",
     "text": [
      "<class 'pandas.core.frame.DataFrame'>\n",
      "RangeIndex: 20640 entries, 0 to 20639\n",
      "Data columns (total 9 columns):\n",
      " #   Column       Non-Null Count  Dtype  \n",
      "---  ------       --------------  -----  \n",
      " 0   MedInc       20640 non-null  float64\n",
      " 1   HouseAge     20640 non-null  float64\n",
      " 2   AveRooms     20640 non-null  float64\n",
      " 3   AveBedrms    20640 non-null  float64\n",
      " 4   Population   20640 non-null  float64\n",
      " 5   AveOccup     20640 non-null  float64\n",
      " 6   Latitude     20640 non-null  float64\n",
      " 7   Longitude    20640 non-null  float64\n",
      " 8   MedHouseVal  20640 non-null  float64\n",
      "dtypes: float64(9)\n",
      "memory usage: 1.4 MB\n",
      "None\n"
     ]
    }
   ],
   "execution_count": 37
  },
  {
   "metadata": {},
   "cell_type": "markdown",
   "source": "Задание №9 - Узнать, есть ли пропущенные значения, используя isna().sum()",
   "id": "5491bf6723c9db57"
  },
  {
   "metadata": {
    "ExecuteTime": {
     "end_time": "2024-09-28T10:49:13.967256Z",
     "start_time": "2024-09-28T10:49:13.962499Z"
    }
   },
   "cell_type": "code",
   "source": [
    "missing_values = df.isna().sum()\n",
    "print(missing_values)"
   ],
   "id": "d9ea80ff891f4e83",
   "outputs": [
    {
     "name": "stdout",
     "output_type": "stream",
     "text": [
      "MedInc         0\n",
      "HouseAge       0\n",
      "AveRooms       0\n",
      "AveBedrms      0\n",
      "Population     0\n",
      "AveOccup       0\n",
      "Latitude       0\n",
      "Longitude      0\n",
      "MedHouseVal    0\n",
      "dtype: int64\n"
     ]
    }
   ],
   "execution_count": 38
  },
  {
   "metadata": {},
   "cell_type": "markdown",
   "source": "Задание №10 - Вывести записи, где средний возраст домов в районе более 50 лет и население более 2500 человек, используя метод loc()",
   "id": "2be49f1e8b293001"
  },
  {
   "metadata": {
    "ExecuteTime": {
     "end_time": "2024-09-28T10:49:13.999309Z",
     "start_time": "2024-09-28T10:49:13.993078Z"
    }
   },
   "cell_type": "code",
   "source": [
    "filtered_df = df.loc[(df['HouseAge'] > 50) & (df['Population'] > 2500)]\n",
    "print(filtered_df)"
   ],
   "id": "ae1c1df48b1c2675",
   "outputs": [
    {
     "name": "stdout",
     "output_type": "stream",
     "text": [
      "       MedInc  HouseAge  AveRooms  AveBedrms  Population    AveOccup  \\\n",
      "460    1.4012      52.0  3.105714   1.060000      3337.0    9.534286   \n",
      "4131   3.5349      52.0  4.646119   1.047945      2589.0    5.910959   \n",
      "4440   2.6806      52.0  4.806283   1.057592      3062.0    4.007853   \n",
      "5986   1.8750      52.0  4.500000   1.206349      2688.0   21.333333   \n",
      "7369   3.1901      52.0  4.730942   1.017937      3731.0    4.182735   \n",
      "8227   2.3305      52.0  3.488860   1.170380      3018.0    3.955439   \n",
      "13034  6.1359      52.0  8.275862   1.517241      6675.0  230.172414   \n",
      "15634  1.8295      52.0  2.628169   1.053521      2957.0    4.164789   \n",
      "15652  0.9000      52.0  2.237474   1.053535      3260.0    2.237474   \n",
      "15657  2.5166      52.0  2.839075   1.184049      3436.0    1.621520   \n",
      "15659  1.7240      52.0  2.278566   1.082348      4518.0    1.780142   \n",
      "15795  2.5755      52.0  3.402576   1.058776      2619.0    2.108696   \n",
      "15868  2.8135      52.0  4.584329   1.041169      2987.0    3.966799   \n",
      "\n",
      "       Latitude  Longitude  MedHouseVal  \n",
      "460       37.87    -122.26      1.75000  \n",
      "4131      34.13    -118.20      1.93600  \n",
      "4440      34.08    -118.21      1.53000  \n",
      "5986      34.10    -117.71      2.12500  \n",
      "7369      33.97    -118.21      1.67600  \n",
      "8227      33.78    -118.20      1.62500  \n",
      "13034     38.69    -121.15      2.25000  \n",
      "15634     37.80    -122.41      2.43800  \n",
      "15652     37.80    -122.41      5.00001  \n",
      "15657     37.79    -122.41      2.75000  \n",
      "15659     37.79    -122.41      2.25000  \n",
      "15795     37.77    -122.42      3.25000  \n",
      "15868     37.76    -122.41      2.60300  \n"
     ]
    }
   ],
   "execution_count": 39
  },
  {
   "metadata": {},
   "cell_type": "markdown",
   "source": "Задание №11 - Узнать максимальное и минимальное значения медианной стоимости дома",
   "id": "d7cfcd95ef5c3c"
  },
  {
   "metadata": {
    "ExecuteTime": {
     "end_time": "2024-09-28T10:49:14.009966Z",
     "start_time": "2024-09-28T10:49:14.006526Z"
    }
   },
   "cell_type": "code",
   "source": [
    "max_med_house_value = df['MedHouseVal'].max()\n",
    "min_med_house_value = df['MedHouseVal'].min()\n",
    "print(f\"Максимальное значение медианной стоимости дома: {max_med_house_value}\")\n",
    "print(f\"Минимальное значение медианной стоимости дома: {min_med_house_value}\")"
   ],
   "id": "35b96de678d0feb0",
   "outputs": [
    {
     "name": "stdout",
     "output_type": "stream",
     "text": [
      "Максимальное значение медианной стоимости дома: 5.00001\n",
      "Минимальное значение медианной стоимости дома: 0.14999\n"
     ]
    }
   ],
   "execution_count": 40
  },
  {
   "metadata": {},
   "cell_type": "markdown",
   "source": "Задание №12 - Используя метод apply(), вывести на экран название признака и его среднее значение",
   "id": "ad516f12838a7eaf"
  },
  {
   "metadata": {
    "ExecuteTime": {
     "end_time": "2024-09-28T10:49:14.028936Z",
     "start_time": "2024-09-28T10:49:14.024645Z"
    }
   },
   "cell_type": "code",
   "source": [
    "avg_values = df.apply(lambda x: x.mean())\n",
    "for feature, mean_value in avg_values.items():\n",
    "    print(f\"Признак: {feature}, Среднее значение: {mean_value}\")"
   ],
   "id": "ae314286be8aa455",
   "outputs": [
    {
     "name": "stdout",
     "output_type": "stream",
     "text": [
      "Признак: MedInc, Среднее значение: 3.8706710029069766\n",
      "Признак: HouseAge, Среднее значение: 28.639486434108527\n",
      "Признак: AveRooms, Среднее значение: 5.428999742190376\n",
      "Признак: AveBedrms, Среднее значение: 1.096675149606208\n",
      "Признак: Population, Среднее значение: 1425.4767441860465\n",
      "Признак: AveOccup, Среднее значение: 3.0706551594363742\n",
      "Признак: Latitude, Среднее значение: 35.63186143410853\n",
      "Признак: Longitude, Среднее значение: -119.56970445736432\n",
      "Признак: MedHouseVal, Среднее значение: 2.068558169089147\n"
     ]
    }
   ],
   "execution_count": 41
  }
 ],
 "metadata": {
  "kernelspec": {
   "display_name": "Python 3",
   "language": "python",
   "name": "python3"
  },
  "language_info": {
   "codemirror_mode": {
    "name": "ipython",
    "version": 2
   },
   "file_extension": ".py",
   "mimetype": "text/x-python",
   "name": "python",
   "nbconvert_exporter": "python",
   "pygments_lexer": "ipython2",
   "version": "2.7.6"
  }
 },
 "nbformat": 4,
 "nbformat_minor": 5
}
