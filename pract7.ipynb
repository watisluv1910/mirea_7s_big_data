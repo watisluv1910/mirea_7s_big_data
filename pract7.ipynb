{
 "cells": [
  {
   "metadata": {},
   "cell_type": "markdown",
   "source": "# Практическая работа №7 - Ансамблевое обучение",
   "id": "c9022a24184c7b96"
  },
  {
   "metadata": {
    "ExecuteTime": {
     "end_time": "2024-10-19T11:13:54.200178Z",
     "start_time": "2024-10-19T11:13:54.196706Z"
    }
   },
   "cell_type": "code",
   "source": [
    "import time\n",
    "import ace_tools_open as tools\n",
    "import pandas as pd\n",
    "from sklearn.datasets import load_breast_cancer\n",
    "from sklearn.model_selection import train_test_split\n",
    "from sklearn.ensemble import BaggingClassifier, GradientBoostingClassifier\n",
    "from sklearn.metrics import accuracy_score"
   ],
   "id": "33594cc3ffab5645",
   "outputs": [],
   "execution_count": 11
  },
  {
   "metadata": {},
   "cell_type": "markdown",
   "source": [
    "## Задание №1\n",
    "\n",
    "Найти данные для задачи классификации или для задачи регрессии (данные не должны повторятся в группе)."
   ],
   "id": "9a6118e7aba19027"
  },
  {
   "metadata": {
    "ExecuteTime": {
     "end_time": "2024-10-19T11:13:54.214305Z",
     "start_time": "2024-10-19T11:13:54.206654Z"
    }
   },
   "cell_type": "code",
   "source": [
    "data = load_breast_cancer()\n",
    "X = data.data\n",
    "y = data.target\n",
    "\n",
    "# Тренировочный - 70%, тестовый - 30%\n",
    "X_train, X_test, y_train, y_test = train_test_split(X, y, test_size=0.3, random_state=42)"
   ],
   "id": "8f0f6bbefb9072fb",
   "outputs": [],
   "execution_count": 12
  },
  {
   "metadata": {},
   "cell_type": "markdown",
   "source": [
    "##  Задание №2\n",
    "\n",
    "Реализовать баггинг.\n",
    "\n",
    "**Теория**:\n",
    "\n",
    "_Баггинг_ (Bagging, сокращение от Bootstrap Aggregating) — это метод ансамблевого обучения, который используется для повышения точности модели за счёт уменьшения дисперсии. В баггинге несколько моделей обучаются на разных подвыборках одного и того же набора данных, после чего их результаты объединяются (например, путём голосования или усреднения). Основная идея баггинга заключается в том, чтобы уменьшить разброс (variance) модели, что приводит к повышению её устойчивости и точности.\n",
    "\n",
    "_Принцип работы_:\n",
    "\n",
    "1. Создаются случайные подвыборки данных с помощью bootstrap (с повторяющимися выборками из исходного набора данных);\n",
    "2. Для каждой подвыборки обучается отдельная модель (чаще всего используются слабые классификаторы, например, деревья решений);\n",
    "3. Все обученные модели предсказывают результат, после чего результаты объединяются — в задачах классификации используется голосование, а в задачах регрессии — усреднение;\n",
    "4. Итоговое предсказание получается как агрегированный результат всех моделей.\n",
    "\n",
    "Баггинг помогает уменьшить переобучение, так как каждая модель работает на случайной подвыборке данных.\n",
    "\n",
    "_Bootstrap_ – это статистический метод, используемый для оценки свойств (например, среднего, дисперсии) выборки данных с помощью многократного повторного случайного выборочного отбора данных с возвратом. Этот метод особенно полезен, когда исходная выборка ограничена по размеру или неизвестно распределение данных.\n",
    "\n",
    "_Принцип работы_:\n",
    "\n",
    "1. Из исходного набора данных многократно делаются случайные подвыборки того же размера, что и исходная выборка. Важное отличие от обычного случайного отбора — с возвратом, то есть одна и та же точка данных может быть выбрана несколько раз;\n",
    "2.\tДля каждой из полученных подвыборок вычисляется интересующий нас статистический показатель (например, среднее, медиана);\n",
    "3.\tВсе полученные значения показателя объединяются для вычисления конечной оценки (например, среднего всех средних или среднего значения медианы)."
   ],
   "id": "99efeb7009b3d635"
  },
  {
   "metadata": {
    "ExecuteTime": {
     "end_time": "2024-10-20T10:00:19.325623Z",
     "start_time": "2024-10-20T10:00:19.042815Z"
    }
   },
   "cell_type": "code",
   "source": [
    "start_time_bagging = time.time()\n",
    "bagging = BaggingClassifier(n_estimators=100, random_state=42)\n",
    "bagging.fit(X_train, y_train)\n",
    "y_pred_bagging = bagging.predict(X_test)\n",
    "accuracy_bagging = accuracy_score(y_test, y_pred_bagging)\n",
    "end_time_bagging = time.time()\n",
    "\n",
    "print(y_pred_bagging)"
   ],
   "id": "f43e0532cd732697",
   "outputs": [
    {
     "name": "stdout",
     "output_type": "stream",
     "text": [
      "[1 0 0 1 1 0 0 0 0 1 1 0 1 0 1 0 1 1 1 0 1 1 0 1 1 1 1 1 1 0 1 1 1 1 1 1 0\n",
      " 1 0 1 1 0 1 1 1 1 1 1 1 1 0 0 1 1 1 1 1 0 0 1 1 0 0 1 1 1 0 0 1 1 0 0 1 0\n",
      " 1 1 1 1 1 1 0 1 1 0 0 0 0 0 1 1 1 1 1 1 1 1 0 0 1 0 0 1 0 0 1 1 1 0 0 1 0\n",
      " 1 1 0 1 0 1 1 1 0 1 1 1 0 1 0 0 1 1 0 0 0 1 1 1 0 0 1 1 0 1 0 1 1 0 1 0 0\n",
      " 0 1 0 1 1 1 1 0 0 1 1 1 1 1 1 1 1 1 1 1 1 0 1]\n"
     ]
    }
   ],
   "execution_count": 16
  },
  {
   "metadata": {},
   "cell_type": "markdown",
   "source": [
    "## Задание №3\n",
    "\n",
    "Реализовать бустинг на тех же данных, что использовались для баггинга.\n",
    "\n",
    "**Теория**:\n",
    "\n",
    "Бустинг — это метод ансамблевого обучения. В отличие от баггинга, бустинг направлен на последовательное улучшение модели. В бустинге каждая новая модель обучается на ошибках предыдущих моделей, таким образом, каждая последующая модель старается исправить ошибки предыдущей. Это делает бустинг мощным инструментом для повышения точности модели за счёт уменьшения смещения (bias).\n",
    "\n",
    "_Принцип работы_:\n",
    "\n",
    "1.\tПервая модель обучается на исходных данных;\n",
    "2.\tВычисляются ошибки (например, неправильно классифицированные объекты) первой модели;\n",
    "3.\tВторая модель обучается на тех данных, которые были плохо предсказаны первой моделью (чаще всего такие данные получают больший вес);\n",
    "4.\tПроцесс продолжается: каждая следующая модель обучается на ошибках предыдущей, и их результаты объединяются, чаще всего в виде взвешенного голосования;\n",
    "5.\tИтоговое предсказание представляет собой совокупное предсказание всех моделей с учётом их веса.\n",
    "\n",
    "Бустинг снижает смещение модели, что приводит к более высокой точности, но делает модель склонной к переобучению, особенно если количество слабых моделей слишком велико."
   ],
   "id": "256dbfc018adb0bc"
  },
  {
   "metadata": {
    "ExecuteTime": {
     "end_time": "2024-10-20T10:01:42.514474Z",
     "start_time": "2024-10-20T10:01:42.258873Z"
    }
   },
   "cell_type": "code",
   "source": [
    "start_time_boosting = time.time()\n",
    "boosting = GradientBoostingClassifier(n_estimators=100, random_state=42)\n",
    "boosting.fit(X_train, y_train)\n",
    "y_pred_boosting = boosting.predict(X_test)\n",
    "accuracy_boosting = accuracy_score(y_test, y_pred_boosting)\n",
    "end_time_boosting = time.time()\n",
    "\n",
    "print(y_pred_boosting)"
   ],
   "id": "55f3f466ceec7216",
   "outputs": [
    {
     "name": "stdout",
     "output_type": "stream",
     "text": [
      "[1 0 0 1 1 0 0 0 0 1 1 0 1 0 1 0 1 1 1 0 1 1 0 1 1 1 1 1 1 0 1 1 1 1 1 1 0\n",
      " 1 0 1 1 0 1 1 1 1 1 1 1 1 0 0 1 1 1 1 1 0 0 1 1 0 0 1 1 1 0 0 1 1 0 0 1 0\n",
      " 1 1 1 1 1 1 0 1 1 0 0 0 0 0 1 1 1 1 1 1 1 1 0 0 1 0 0 1 0 0 1 1 1 0 0 1 0\n",
      " 1 1 0 1 0 1 1 1 0 1 1 1 0 1 0 0 1 1 0 0 0 1 1 1 0 0 1 1 0 1 0 1 1 0 1 0 0\n",
      " 0 1 0 1 1 1 1 0 0 1 1 1 1 1 1 1 1 1 1 1 1 0 1]\n"
     ]
    }
   ],
   "execution_count": 17
  },
  {
   "metadata": {},
   "cell_type": "markdown",
   "source": [
    "## Задание №4\n",
    "\n",
    "Сравнить результаты работы алгоритмов (время работы и качество моделей). Сделать выводы."
   ],
   "id": "9e71831842334458"
  },
  {
   "metadata": {
    "ExecuteTime": {
     "end_time": "2024-10-19T11:13:54.744187Z",
     "start_time": "2024-10-19T11:13:54.737888Z"
    }
   },
   "cell_type": "code",
   "source": [
    "results = {\n",
    "    \"Bagging Accuracy\": accuracy_bagging,\n",
    "    \"Bagging Time\": end_time_bagging - start_time_bagging,\n",
    "    \"Boosting Accuracy\": accuracy_boosting,\n",
    "    \"Boosting Time\": end_time_boosting - start_time_boosting\n",
    "}\n",
    "\n",
    "tools.display_dataframe_to_user(name=\"Сравнение баггинга и бустинга\", dataframe=pd.DataFrame([results]))"
   ],
   "id": "599edd81305f1c6c",
   "outputs": [
    {
     "name": "stdout",
     "output_type": "stream",
     "text": [
      "Сравнение баггинга и бустинга\n"
     ]
    },
    {
     "data": {
      "text/plain": [
       "<IPython.core.display.HTML object>"
      ],
      "text/html": [
       "<table id=\"itables_e0a03a03_e5e0_4e27_a23c_895271300984\" class=\"display nowrap\" data-quarto-disable-processing=\"true\" style=\"table-layout:auto;width:auto;margin:auto;caption-side:bottom\">\n",
       "<thead>\n",
       "    <tr style=\"text-align: right;\">\n",
       "      \n",
       "      <th>Bagging Accuracy</th>\n",
       "      <th>Bagging Time</th>\n",
       "      <th>Boosting Accuracy</th>\n",
       "      <th>Boosting Time</th>\n",
       "    </tr>\n",
       "  </thead><tbody><tr>\n",
       "<td style=\"vertical-align:middle; text-align:left\">\n",
       "<div style=\"float:left; margin-right: 10px;\">\n",
       "<a href=https://mwouts.github.io/itables/><svg class=\"main-svg\" xmlns=\"http://www.w3.org/2000/svg\" xmlns:xlink=\"http://www.w3.org/1999/xlink\"\n",
       "width=\"64\" viewBox=\"0 0 500 400\" style=\"font-family: 'Droid Sans', sans-serif;\">\n",
       "    <g style=\"fill:#d9d7fc\">\n",
       "        <path d=\"M100,400H500V357H100Z\" />\n",
       "        <path d=\"M100,300H400V257H100Z\" />\n",
       "        <path d=\"M0,200H400V157H0Z\" />\n",
       "        <path d=\"M100,100H500V57H100Z\" />\n",
       "        <path d=\"M100,350H500V307H100Z\" />\n",
       "        <path d=\"M100,250H400V207H100Z\" />\n",
       "        <path d=\"M0,150H400V107H0Z\" />\n",
       "        <path d=\"M100,50H500V7H100Z\" />\n",
       "    </g>\n",
       "    <g style=\"fill:#1a1366;stroke:#1a1366;\">\n",
       "   <rect x=\"100\" y=\"7\" width=\"400\" height=\"43\">\n",
       "    <animate\n",
       "      attributeName=\"width\"\n",
       "      values=\"0;400;0\"\n",
       "      dur=\"5s\"\n",
       "      repeatCount=\"indefinite\" />\n",
       "      <animate\n",
       "      attributeName=\"x\"\n",
       "      values=\"100;100;500\"\n",
       "      dur=\"5s\"\n",
       "      repeatCount=\"indefinite\" />\n",
       "  </rect>\n",
       "        <rect x=\"0\" y=\"107\" width=\"400\" height=\"43\">\n",
       "    <animate\n",
       "      attributeName=\"width\"\n",
       "      values=\"0;400;0\"\n",
       "      dur=\"3.5s\"\n",
       "      repeatCount=\"indefinite\" />\n",
       "    <animate\n",
       "      attributeName=\"x\"\n",
       "      values=\"0;0;400\"\n",
       "      dur=\"3.5s\"\n",
       "      repeatCount=\"indefinite\" />\n",
       "  </rect>\n",
       "        <rect x=\"100\" y=\"207\" width=\"300\" height=\"43\">\n",
       "    <animate\n",
       "      attributeName=\"width\"\n",
       "      values=\"0;300;0\"\n",
       "      dur=\"3s\"\n",
       "      repeatCount=\"indefinite\" />\n",
       "    <animate\n",
       "      attributeName=\"x\"\n",
       "      values=\"100;100;400\"\n",
       "      dur=\"3s\"\n",
       "      repeatCount=\"indefinite\" />\n",
       "  </rect>\n",
       "        <rect x=\"100\" y=\"307\" width=\"400\" height=\"43\">\n",
       "    <animate\n",
       "      attributeName=\"width\"\n",
       "      values=\"0;400;0\"\n",
       "      dur=\"4s\"\n",
       "      repeatCount=\"indefinite\" />\n",
       "      <animate\n",
       "      attributeName=\"x\"\n",
       "      values=\"100;100;500\"\n",
       "      dur=\"4s\"\n",
       "      repeatCount=\"indefinite\" />\n",
       "  </rect>\n",
       "        <g style=\"fill:transparent;stroke-width:8; stroke-linejoin:round\" rx=\"5\">\n",
       "            <g transform=\"translate(45 50) rotate(-45)\">\n",
       "                <circle r=\"33\" cx=\"0\" cy=\"0\" />\n",
       "                <rect x=\"-8\" y=\"32\" width=\"16\" height=\"30\" />\n",
       "            </g>\n",
       "\n",
       "            <g transform=\"translate(450 152)\">\n",
       "                <polyline points=\"-15,-20 -35,-20 -35,40 25,40 25,20\" />\n",
       "                <rect x=\"-15\" y=\"-40\" width=\"60\" height=\"60\" />\n",
       "            </g>\n",
       "\n",
       "            <g transform=\"translate(50 352)\">\n",
       "                <polygon points=\"-35,-5 0,-40 35,-5\" />\n",
       "                <polygon points=\"-35,10 0,45 35,10\" />\n",
       "            </g>\n",
       "\n",
       "            <g transform=\"translate(75 250)\">\n",
       "                <polyline points=\"-30,30 -60,0 -30,-30\" />\n",
       "                <polyline points=\"0,30 -30,0 0,-30\" />\n",
       "            </g>\n",
       "\n",
       "            <g transform=\"translate(425 250) rotate(180)\">\n",
       "                <polyline points=\"-30,30 -60,0 -30,-30\" />\n",
       "                <polyline points=\"0,30 -30,0 0,-30\" />\n",
       "            </g>\n",
       "        </g>\n",
       "    </g>\n",
       "</svg>\n",
       "</a>\n",
       "</div>\n",
       "<div>\n",
       "Loading ITables v2.2.2 from the internet...\n",
       "(need <a href=https://mwouts.github.io/itables/troubleshooting.html>help</a>?)</td>\n",
       "</div>\n",
       "</tr></tbody>\n",
       "\n",
       "</table>\n",
       "<link href=\"https://www.unpkg.com/dt_for_itables@2.0.13/dt_bundle.css\" rel=\"stylesheet\">\n",
       "<script type=\"module\">\n",
       "    import {DataTable, jQuery as $} from 'https://www.unpkg.com/dt_for_itables@2.0.13/dt_bundle.js';\n",
       "\n",
       "    document.querySelectorAll(\"#itables_e0a03a03_e5e0_4e27_a23c_895271300984:not(.dataTable)\").forEach(table => {\n",
       "        if (!(table instanceof HTMLTableElement))\n",
       "            return;\n",
       "\n",
       "        // Define the table data\n",
       "        const data = [[0.959064, 0.258257, 0.959064, 0.236265]];\n",
       "\n",
       "        // Define the dt_args\n",
       "        let dt_args = {\"layout\": {\"topStart\": null, \"topEnd\": null, \"bottomStart\": null, \"bottomEnd\": null}, \"order\": [], \"warn_on_selected_rows_not_rendered\": true};\n",
       "        dt_args[\"data\"] = data;\n",
       "\n",
       "        \n",
       "        new DataTable(table, dt_args);\n",
       "    });\n",
       "</script>\n"
      ]
     },
     "metadata": {},
     "output_type": "display_data"
    }
   ],
   "execution_count": 15
  },
  {
   "metadata": {},
   "cell_type": "markdown",
   "source": [
    "- Точность баггинга и бустинга одинакова. Оба метода показали одинаковую точность — 95.9%. Это говорит о том, что в данном конкретном наборе данных разница в подходах не дала значимого прироста качества. Оба метода справляются с классификацией примерно одинаково хорошо;\n",
    "- Баггинг занял немного больше времени (0.258 секунды), чем бустинг (0.236 секунды). Это может быть связано с тем, что баггинг параллельно обучает несколько моделей, что требует больше ресурсов для одновременной обработки. Однако разница в скорости незначительна, и в этом конкретном случае бустинг оказался немного быстрее."
   ],
   "id": "33d93bd427b2b6a5"
  }
 ],
 "metadata": {
  "kernelspec": {
   "display_name": "Python 3",
   "language": "python",
   "name": "python3"
  },
  "language_info": {
   "codemirror_mode": {
    "name": "ipython",
    "version": 2
   },
   "file_extension": ".py",
   "mimetype": "text/x-python",
   "name": "python",
   "nbconvert_exporter": "python",
   "pygments_lexer": "ipython2",
   "version": "2.7.6"
  }
 },
 "nbformat": 4,
 "nbformat_minor": 5
}
